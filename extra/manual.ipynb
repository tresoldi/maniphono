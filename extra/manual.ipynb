{
 "cells": [
  {
   "cell_type": "markdown",
   "source": [
    "# Maniphono Manual\n",
    "\n",
    "`maniphono` is a library for the symbolic manipulation of phonological units, designed as a solution\n",
    "historical phonology. While offering two standard models for operation, one modified from the\n",
    "IPA but following as much as possible its descriptors and one using distinctive\n",
    "features which is designed for machine learning, it is designed to support custom\n",
    "phonological models, trying as much as possible to be agnostic about the theoretical\n",
    "background. For example, contrary to most computational systems, it does not force\n",
    "consonants and vowels to be separated, and in fact allows pure systems of distinctive features\n",
    "where all possible sounds are expressed using the same matrix. It also gives particular\n",
    "attention since design stage to the role of suprasegmentals.\n",
    "\n",
    "`maniphono` operates on a hierarchy of phonological abstractions, all which are\n",
    "related in some way to a \"phonological model\" that serves as the basis of all\n",
    "operations. This hierarchy is:\n",
    "\n",
    "  * a \"phonological model\" comprises a set of features operating in a many-valued\n",
    "    logic system: each `feature` may be either undefined or defined by defined by\n",
    "    one and only one \"feature value\" (or `favalue`) and a map of sounds (given by\n",
    "    their graphemes) and the feature values that define them\n",
    "  * a \"sound\" is a bundle of zero or more feature values and is intended to\n",
    "    mostly map individual abstract acoustic performances\n",
    "  * a \"segment\" is a unit of analysis, as decided by the user; the most common\n",
    "    segment is, by far, a \"sound segment\", which is a segment composed of one\n",
    "    (monosonic segment) or more (polysonic segment) sounds\n",
    "  * a \"sequence\" is an ordered collection of segments and a set of information\n",
    "    on suprasegmental properties, such as syllable breaks, tones, etc.\n",
    "\n",
    "Each unit is described in more detail in the subsequent sections. As as set\n",
    "of examples, however:\n",
    "\n",
    "  * `model_mipa` is the standard phonological model in `maniphono`, comprised (at\n",
    "    the time of writing) of 20 features (such as `manner` and `length`),\n",
    "    64 fvalues (such as `affricate` and `approximant`, values of the `manner`\n",
    "    feature, and `half-long` and `long`, values of the `length` feature), and 231\n",
    "    graphemes (such as `a`, defined as an `open front unrounded vowel`)\n",
    "  * sounds are to a large extend phonological abstractions represented by a\n",
    "    single IPA glyph (potentially with diacritics), such as\n",
    "    `open front unrounded vowel` (that is, /a/) or\n",
    "    `voiced alveolar non-sibilant lateral affricate consonant` (that is, /dɮ/).\n",
    "    Sounds can also be \"partial\", in the sense that they are not fully\n",
    "    defined and thus represent what is normally called a \"class\" of sounds,\n",
    "    such as `glottal consonant` (represented by `H`)\n",
    "  * a sound segment is intended as a unit of analysis, contingent\n",
    "    to the user decisions. For example, a bisonic segment can be\n",
    "    used to represent a diphthong in case they are supposed to be treated\n",
    "    as a single unit of analysis (such as `/a+j/`, in `maniphono`'s\n",
    "    notation), which is different from a sequence of two monosonic\n",
    "    segments (that is, `/a j/`)\n",
    "  * a sequence is a list of segments, such as `[p a p a+j]`, which is a\n",
    "    sequence of four segments (the last of which is composed of two sounds). It can\n",
    "    carry additional information, such as word boundaries as in\n",
    "    `[# p a p a+j #]`, syllable breaks as in `[# p a . p a+j #]`,\n",
    "    and tonal information as in `[# p a ˧˩ . p a+j ˨˦ #]`\n",
    "\n",
    "## PhonoModel\n",
    "\n",
    "As mentioned above, a \"phonological model\" is composed of two main sources:\n",
    "\n",
    "  - a feature definition\n",
    "  - a sound definition\n",
    "\n",
    "### Feature definition\n",
    "\n",
    "Features are defined in a tabular file named `model.csv` with contents similar to the snippet below:\n",
    "\n",
    "  | FEATURE    | FVALUE     | RANK | PREFIX | SUFFIX | CONSTRAINTS                    |\n",
    "  |------------|------------|------|--------|--------|--------------------------------|\n",
    "  | aspiration | aspirated  | 6    |        | ʰ      | consonant                      |\n",
    "  | centrality | back       | 2    |        | U+0320 | vowel                          |\n",
    "  | centrality | central    | 2    |        | U+0308 | vowel                          |\n",
    "  | centrality | front      | 2    |        | U+031F | vowel                          |\n",
    "  | centrality | near-back  | 2    |        |        | vowel                          |\n",
    "  | centrality | near-front | 2    |        |        | vowel                          |\n",
    "  | ejection   | ejective   | 5    |        |        | plosive\\|fricative\\|affricate  |\n",
    "\n",
    "The most important field for each row, and the only one that needs to be unique in the row, is the \"FVALUE\" one,\n",
    "as each row reports one \"fvalue\". The \"fvalue\" labels have names in all lower-case letters, with optional dashes,\n",
    "and must be unique across the entire model. There cannot be repeated fvalue names, even if they cannot apply to the\n",
    "same sound: as a consequence, for example, the MIPA model has a feature \"nasal\" which applies to consonants only,\n",
    "and a feature \"nasalized\" which applies to vowels only.\n",
    "\n",
    "The \"FEATURE\" column reports the feature in the model to which the fvalue refers to. Each sound in `maniphono`\n",
    "can have at most one fvalue per feature set, so that it is possible to ask questions such as \"which is fvalue\n",
    "for 'centrality' in sound X\" or \"is 'front' the fvalue for 'centrality' in sound Y\".\n",
    "\n",
    "\"RANK\", \"PREFIX\", and \"SUFFIX\" are properties mostly used for converting from and to graphemic representations,\n",
    "such as making sure that 'voiceless bilabial plosive consonant' is converted to \"p\". The first is an integer\n",
    "number that informs, in descending order, how \"important\" a value is, so that, when presenting information to the\n",
    "user, our results are reproducible and we always obtain 'voiceless bilabial plosive consonant' and not\n",
    "'voiceless bilabial consonant plosive' (which is, however, accepted as an input). Note that ranks are determined\n",
    "per fvalue and not per feature basis, as giving more fine-grained options about how to build the names. \"PREFIX\"\n",
    "and \"SUFFIX\" are, as expected, substrings that will attached to base graphemes in order to modify them; the order\n",
    "of addition follows the \"RANK\" property, so here as well the results are reproducible. Both \"PREFIX\" and \"SUFFIX\"\n",
    "can be given as Unicode charpoints. If an affix is needed when building a graphemic representation and it is\n",
    "not available, the library will fall back to adding the corresponding fvalue as a modifier.\n",
    "\n",
    "\"CONSTRAINTS\" is a non-mandatory field which allows a detailed specification of which fvalues must or must not\n",
    "be set for a given fvalue to be present in a sound. They can be used internally for a variety of purposes,\n",
    "such as making sure that sounds or groups of sounds considered impossible are not accepted (such \"sibilant laryngeals\",\n",
    "in the `mipa` model) and that some fvalues are automatically added when necessary (such as automatically marking\n",
    "all \"sibilants\" as \"fricatives\" in the same `mipa` model). The restriction that each can have at most one fvalue\n",
    "per feature can be interpreted as a list of constraints automatically added, where each fvalue implies the'\n",
    "absence of the fvalues of the same feature. The syntax for the \"CONSTRAINTS\" field can express many nuances\n",
    "and interdependencies, and is explained in subsection X.\n",
    "\n",
    "#### Sound definition\n",
    "\n",
    "Sounds are defined in a tabular file named `sounds.csv` with contents similar to the\n",
    "snippet below:\n",
    "\n",
    "  | GRAPHEME   | DESCRIPTION                          | CLASS |\n",
    "  |------------|--------------------------------------|-------|\n",
    "  | V          | vowel                                | True  |\n",
    "  | F          | fricative consonant                  | True  |\n",
    "  | a          | open front unrounded vowel           | False |\n",
    "  | ã          | open front unrounded vowel nasalized | False |\n",
    "  | b          | voiced bilabial plosive consonant    | False |\n",
    "\n",
    "\"GRAPHEME\" is a base grapheme representation, and it is recommended that it follows\n",
    "the IPA as close as possible. As the \"PREFIX\" and \"AFFIX\" fields in model,\n",
    "this field accepts Unicode charpoints. Note, that internally the graphemes\n",
    "will always be normalized and returned following the NFD, that is, the\n",
    "Normalization Form Canonical Decomposition, when characters are decomposed by\n",
    "canonical equivalence, and multiple combining characters are arranged in a\n",
    "specific order. For more information, see subsection X.\n",
    "\n",
    "The \"DESCRIPTION\" is a list of one or more fvalues that define the corresponding\n",
    "grapheme. It is not necessary for them to follow the ranks of the fvalues. While\n",
    "it is recommended to separate the fvalues by a single white space, there is some\n",
    "flexibility in terms of the syntax defining an \"fvalue list\" (see subsection X).\n",
    "\n",
    "The \"CLASS\" column reports a boolean information on whether the sound is partial\n",
    "(`True`) or not (`False`). Sound partiality is an attribute mostly used\n",
    "internally for forward and backward operation when applying a sound change,\n",
    "and for most common purposes the sounds that can be represented in IPA can be\n",
    "considered non-partial. It is recommended, following the practice in the\n",
    "literature, that partial sounds are defined with capital letters.\n",
    "\n",
    "As expected, there can be no duplicates in terms of graphemes (the same grapheme\n",
    "specified with two equivalent flists) and of fvalue lists (two equivalent\n",
    "flists mapping to different graphemes). The library will check for these\n",
    "restrictions when loading a model.\n",
    "\n",
    "Models can carry additional information related to each sound, both categorical\n",
    "(such as sound classes) and numerical (such as prosody values), which are not\n",
    "mandatory but might be needed by different methods and functionalities.\n",
    "In case this information is needed for a sound not in the list of sounds (such as\n",
    "one extended with a diacritic), the system will internally find the closest\n",
    "sound and repeat that information (this is what happens, for example, with\n",
    "sound classes). This also happens in case of empty cells (common, for\n",
    "example, for partial sounds).\n",
    "The MIPA model carries information on sound classes (derived\n",
    "from SCA [cite list]) and prosody (derived from [cite list]).\n",
    "\n",
    "Sound can be created from graphemes or from descriptions, which are lists\n",
    "of fvalues (provided either as a single string or as an actual Python\n",
    "iterable). All sounds have an implied model, which default to MIPA."
   ],
   "metadata": {
    "collapsed": false,
    "pycharm": {
     "name": "#%% md\n"
    }
   }
  },
  {
   "cell_type": "code",
   "execution_count": 1,
   "metadata": {
    "collapsed": true,
    "pycharm": {
     "name": "#%% code\n"
    }
   },
   "outputs": [],
   "source": [
    "import maniphono"
   ]
  },
  {
   "cell_type": "markdown",
   "source": [
    "## Usage\n",
    "\n",
    "The library is intended to be used as normal Python package, trying to follow the\n",
    "conventions and expectations of its programming language. A few decisions on\n",
    "implementation might fall short in this principle, but they are justified by the future\n",
    "plans of offering an equivalent interface in different programming languages that can\n",
    "easily used on client browser connections and/or compiled to machine code for easier\n",
    "parallel processing.\n",
    "\n",
    "The library is imported as expected. It is currently distributed with two models,\n",
    "`mipa` and `tresoldi`, which offer a modified version of IPA and one of full binary\n",
    "distinctive features that is intended mostly for machine learning approaches. In all\n",
    "cases, the `mipa` model is used as default."
   ],
   "metadata": {
    "collapsed": false,
    "pycharm": {
     "name": "#%% md\n"
    }
   }
  },
  {
   "cell_type": "code",
   "execution_count": 2,
   "outputs": [
    {
     "name": "stdout",
     "output_type": "stream",
     "text": [
      "[`mipa` model (20 features, 64 fvalues, 231 graphemes)]\n",
      "[`tresoldi` model (30 features, 60 fvalues, 570 graphemes)]\n"
     ]
    }
   ],
   "source": [
    "print(maniphono.model_mipa)\n",
    "print(maniphono.model_tresoldi)"
   ],
   "metadata": {
    "collapsed": false,
    "pycharm": {
     "name": "#%% code\n"
    }
   }
  },
  {
   "cell_type": "markdown",
   "source": [
    "### Sounds\n",
    "\n",
    "A `Sound` can be initialized either with a grapheme, by default, or a description.\n",
    "Descriptions can be either a list of values or a string listing different values and\n",
    "separated by a standard delimiter such as spaces or commas. A model must also be\n",
    "provided, defaulting to `mipa` as mentioned above. Segments can be \"visualized\"\n",
    "with `str()`, returning a graphemic representation, or with `repr()`, returned a\n",
    "descriptive representation."
   ],
   "metadata": {
    "collapsed": false,
    "pycharm": {
     "name": "#%% md\n"
    }
   }
  },
  {
   "cell_type": "code",
   "execution_count": 3,
   "outputs": [
    {
     "name": "stdout",
     "output_type": "stream",
     "text": [
      "p voiceless bilabial plosive consonant\n",
      "p voiceless bilabial plosive consonant\n",
      "a low non-back non-high non-sibilant non-strident distributed anterior non-constricted non-spread voice dorsal non-labial non-click coronal place non-lateral laryngeal syllabic tense non-consonantal non-nasal approximant continuant sonorant\n"
     ]
    }
   ],
   "source": [
    "snd1 = maniphono.Sound(\"p\")\n",
    "print(str(snd1), repr(snd1))\n",
    "\n",
    "snd2 = maniphono.Sound(description=\"voiceless bilabial plosive consonant\")\n",
    "print(str(snd2), repr(snd2))\n",
    "\n",
    "snd3 = maniphono.Sound(\"a\", model=maniphono.model_tresoldi)\n",
    "print(str(snd3), repr(snd3))"
   ],
   "metadata": {
    "collapsed": false,
    "pycharm": {
     "name": "#%% code\n"
    }
   }
  },
  {
   "cell_type": "markdown",
   "source": [
    "The easiest way to manipulate sounds is using the add (`+`) and sub (`-`) operators, which\n",
    "accept both single and multiple values. If a value from a feature that\n",
    "is already set is added, it will be replaced."
   ],
   "metadata": {
    "collapsed": false,
    "pycharm": {
     "name": "#%% md\n"
    }
   }
  },
  {
   "cell_type": "code",
   "execution_count": 4,
   "outputs": [
    {
     "name": "stdout",
     "output_type": "stream",
     "text": [
      "b voiced bilabial plosive consonant\n",
      "kʷʰ labialized aspirated voiceless velar plosive consonant\n",
      "kʷ labialized voiceless velar plosive consonant\n"
     ]
    }
   ],
   "source": [
    "snd1 += 'voiced'\n",
    "print(str(snd1), repr(snd1))\n",
    "\n",
    "snd2 += 'velar,aspirated,labialized'\n",
    "print(str(snd2), repr(snd2))\n",
    "\n",
    "snd2 -= 'aspirated'\n",
    "print(str(snd2), repr(snd2))"
   ],
   "metadata": {
    "collapsed": false,
    "pycharm": {
     "name": "#%% code\n"
    }
   }
  },
  {
   "cell_type": "markdown",
   "source": [
    "A dictionary of features and values can be easily obtained:"
   ],
   "metadata": {
    "collapsed": false,
    "pycharm": {
     "name": "#%% md\n"
    }
   }
  },
  {
   "cell_type": "code",
   "execution_count": 5,
   "outputs": [
    {
     "data": {
      "text/plain": "{'phonation': 'voiceless',\n 'type': 'consonant',\n 'place': 'velar',\n 'manner': 'plosive',\n 'labialization': 'labialized'}"
     },
     "execution_count": 5,
     "metadata": {},
     "output_type": "execute_result"
    }
   ],
   "source": [
    "snd2.feature_dict()"
   ],
   "metadata": {
    "collapsed": false,
    "pycharm": {
     "name": "#%% code\n"
    }
   }
  },
  {
   "cell_type": "markdown",
   "source": [
    "If a grapheme is not available, either because the sound is not complete or because no\n",
    "diacritic is offered in the model, the library will try to be explicit about its\n",
    "representation."
   ],
   "metadata": {
    "collapsed": false,
    "pycharm": {
     "name": "#%% md\n"
    }
   }
  },
  {
   "cell_type": "code",
   "execution_count": 6,
   "outputs": [
    {
     "data": {
      "text/plain": "('C̥', 'voiceless consonant')"
     },
     "execution_count": 6,
     "metadata": {},
     "output_type": "execute_result"
    }
   ],
   "source": [
    "snd4 = maniphono.Sound(description=\"voiceless consonant\")\n",
    "str(snd4), repr(snd4)"
   ],
   "metadata": {
    "collapsed": false,
    "pycharm": {
     "name": "#%% code\n"
    }
   }
  },
  {
   "cell_type": "markdown",
   "source": [
    "While the results are technically correct, the library still needs work for\n",
    "always returning good representations when it computes the grapheme."
   ],
   "metadata": {
    "collapsed": false,
    "pycharm": {
     "name": "#%% md\n"
    }
   }
  },
  {
   "cell_type": "code",
   "execution_count": 7,
   "outputs": [
    {
     "data": {
      "text/plain": "('ɡʷʰ', 'labialized aspirated voiced velar plosive consonant')"
     },
     "execution_count": 7,
     "metadata": {},
     "output_type": "execute_result"
    }
   ],
   "source": [
    "snd5 = maniphono.Sound(\"kʰʷ[voiced]\")\n",
    "str(snd5), repr(snd5)"
   ],
   "metadata": {
    "collapsed": false,
    "pycharm": {
     "name": "#%% code\n"
    }
   }
  },
  {
   "cell_type": "markdown",
   "source": [
    "### Segments\n",
    "\n",
    "Segments can combine sounds of different models. The decision of what makes up a\n",
    "segment is entirely up to the user; the class can be initialized with a `Sound`,\n",
    "in case of monosonic segments, or with an ordered list of sounds.\n",
    "\n",
    "Segments can be represented with `__str__` and can include a delimiter, by default\n",
    "a `+` sign."
   ],
   "metadata": {
    "collapsed": false,
    "pycharm": {
     "name": "#%% md\n"
    }
   }
  },
  {
   "cell_type": "code",
   "execution_count": 8,
   "outputs": [
    {
     "data": {
      "text/plain": "('w', 'a+j', 'w+a+j')"
     },
     "execution_count": 8,
     "metadata": {},
     "output_type": "execute_result"
    }
   ],
   "source": [
    "snd1 = maniphono.Sound(\"w\")\n",
    "snd2 = maniphono.Sound(\"a\")\n",
    "snd3 = maniphono.Sound(\"j\", model=maniphono.model_tresoldi)\n",
    "seg1 = maniphono.SoundSegment(snd1)\n",
    "seg2 = maniphono.SoundSegment([snd2, snd3])\n",
    "seg3 = maniphono.SoundSegment([snd1, snd2, snd3])\n",
    "str(seg1), str(seg2), str(seg3)"
   ],
   "metadata": {
    "collapsed": false,
    "pycharm": {
     "name": "#%% code\n"
    }
   }
  },
  {
   "cell_type": "markdown",
   "source": [
    "### Sequences\n",
    "\n",
    "Sequences combine segments in order.\n",
    "\n",
    "Sequences can be represented with `__str__` and always use a white space as a delimiter\n",
    "(following CLDF convention) as well as leading and trailing square brackets (`[` and `]`)."
   ],
   "metadata": {
    "collapsed": false,
    "pycharm": {
     "name": "#%% md\n"
    }
   }
  },
  {
   "cell_type": "code",
   "execution_count": 9,
   "outputs": [
    {
     "data": {
      "text/plain": "('# p a #', '# p a w #', '# p a+w #', '# p a w p a+w #')"
     },
     "execution_count": 9,
     "metadata": {},
     "output_type": "execute_result"
    }
   ],
   "source": [
    "snd1, snd2, snd3 = maniphono.Sound(\"p\"), maniphono.Sound(\"a\"), maniphono.Sound(\"w\")\n",
    "seg1, seg2, seg3 = maniphono.SoundSegment(snd1), maniphono.SoundSegment(snd2), maniphono.SoundSegment([snd3])\n",
    "seg4 = maniphono.SoundSegment([snd2, snd3])\n",
    "str(seg1), str(seg2), str(seg3), str(seg4)\n",
    "seq1 = maniphono.SegSequence([seg1, seg2])\n",
    "seq2 = maniphono.SegSequence([seg1, seg2, seg3])\n",
    "seq3 = maniphono.SegSequence([seg1, seg4])\n",
    "seq4 = maniphono.SegSequence([seg1, seg2, seg3, seg1, seg4])\n",
    "str(seq1), str(seq2), str(seq3), str(seq4)"
   ],
   "metadata": {
    "collapsed": false,
    "pycharm": {
     "name": "#%% code\n"
    }
   }
  },
  {
   "cell_type": "markdown",
   "source": [
    "### Operations\n",
    "\n",
    "`PhonoModel` offers a number of auxiliary methods.\n",
    "\n",
    "The `.values2sounds()` method will take a list of value constraints, both in terms of\n",
    "presence and absence, and returned an order list of all graphemes defined in the model\n",
    "that satisfy the constraint."
   ],
   "metadata": {
    "collapsed": false,
    "pycharm": {
     "name": "#%% md\n"
    }
   }
  },
  {
   "cell_type": "code",
   "execution_count": 10,
   "outputs": [
    {
     "data": {
      "text/plain": "['a',\n 'ã',\n 'e',\n 'ẽ',\n 'æ',\n 'æ̃',\n 'ø',\n 'ø̃',\n 'œ',\n 'œ̃',\n 'ɛ',\n 'ɛ̃',\n 'ɪ',\n 'ɪ̃',\n 'ɶ',\n 'ɶ̃',\n 'ʏ',\n 'ʏ̃']"
     },
     "execution_count": 10,
     "metadata": {},
     "output_type": "execute_result"
    }
   ],
   "source": [
    "maniphono.model_mipa.fvalues2graphemes(\"+vowel +front -close\")"
   ],
   "metadata": {
    "collapsed": false,
    "pycharm": {
     "name": "#%% code\n"
    }
   }
  },
  {
   "cell_type": "markdown",
   "source": [
    "The `.minimal_matrix()` method will take a list of graphemes and return a dictionary\n",
    "with the minimum set of features in which they differ."
   ],
   "metadata": {
    "collapsed": false,
    "pycharm": {
     "name": "#%% md\n"
    }
   }
  },
  {
   "cell_type": "code",
   "execution_count": 11,
   "outputs": [
    {
     "data": {
      "text/plain": "{frozenset({'alveolar',\n            'consonant',\n            'plosive',\n            'voiceless'}): {'manner': 'plosive', 'phonation': 'voiceless'},\n frozenset({'alveolar',\n            'consonant',\n            'plosive',\n            'voiced'}): {'manner': 'plosive', 'phonation': 'voiced'},\n frozenset({'alveolar',\n            'consonant',\n            'fricative',\n            'sibilant',\n            'voiceless'}): {'manner': 'fricative', 'phonation': 'voiceless'}}"
     },
     "execution_count": 11,
     "metadata": {},
     "output_type": "execute_result"
    }
   ],
   "source": [
    "maniphono.model_mipa.minimal_matrix([\"t\", \"d\"])\n",
    "dict(maniphono.model_mipa.minimal_matrix([\"t\", \"d\", \"s\"]))"
   ],
   "metadata": {
    "collapsed": false,
    "pycharm": {
     "name": "#%% code\n"
    }
   }
  },
  {
   "cell_type": "markdown",
   "source": [
    "Similarly, the `.class_features()` method will take a list of graphemes and return a\n",
    "dictionary of features and values the graphemes have in common. It can be used to\n",
    "discover what features make up a class with these sounds.\n"
   ],
   "metadata": {
    "collapsed": false,
    "pycharm": {
     "name": "#%% md\n"
    }
   }
  },
  {
   "cell_type": "code",
   "execution_count": 12,
   "outputs": [
    {
     "data": {
      "text/plain": "{'place': 'alveolar', 'type': 'consonant'}"
     },
     "execution_count": 12,
     "metadata": {},
     "output_type": "execute_result"
    }
   ],
   "source": [
    "maniphono.model_mipa.class_features([\"t\", \"d\"])\n",
    "maniphono.model_mipa.class_features([\"t\", \"d\", \"s\"])"
   ],
   "metadata": {
    "collapsed": false,
    "pycharm": {
     "name": "#%% code\n"
    }
   }
  },
  {
   "cell_type": "markdown",
   "source": [
    "The `.value_vector()` method will take a grapheme and return a list of feature names\n",
    "and a boolean vector of presence/absence. It is mostly intended for machine learning\n",
    "projects; for human explorations or categorical machine learning, there is an option\n",
    "to return non-binary vectors."
   ],
   "metadata": {
    "collapsed": false,
    "pycharm": {
     "name": "#%% md\n"
    }
   }
  },
  {
   "cell_type": "code",
   "execution_count": 13,
   "outputs": [
    {
     "data": {
      "text/plain": "(('aspiration_aspirated',\n  'centrality_back',\n  'centrality_central',\n  'centrality_front',\n  'centrality_near-back',\n  'centrality_near-front',\n  'ejection_ejective',\n  'height_close',\n  'height_close-mid',\n  'height_mid',\n  'height_near-close',\n  'height_near-open',\n  'height_open',\n  'height_open-mid',\n  'labialization_labialized',\n  'laterality_lateral',\n  'length_half-long',\n  'length_long',\n  'manner_affricate',\n  'manner_approximant',\n  'manner_click',\n  'manner_flap',\n  'manner_fricative',\n  'manner_implosive',\n  'manner_plosive',\n  'manner_trill',\n  'nasality_nasal',\n  'nasalization_nasalized',\n  'palatalization_palatalized',\n  'pharyngealization_pharyngealized',\n  'phonation_breathy',\n  'phonation_voiced',\n  'phonation_voiceless',\n  'place_alveolar',\n  'place_alveolo-palatal',\n  'place_bilabial',\n  'place_dental',\n  'place_epiglottal',\n  'place_glottal',\n  'place_labial',\n  'place_labio-alveolar',\n  'place_labio-coronal',\n  'place_labio-dental',\n  'place_labio-palatal',\n  'place_labio-velar',\n  'place_linguo-labial',\n  'place_palatal',\n  'place_palato-velar',\n  'place_pharyngeal',\n  'place_post-alveolar',\n  'place_retroflex',\n  'place_uvular',\n  'place_uvulo-epiglottal',\n  'place_velar',\n  'roundness_rounded',\n  'roundness_unrounded',\n  'sibilancy_non-sibilant',\n  'sibilancy_sibilant',\n  'syllabicity_non-syllabic',\n  'syllabicity_syllabic',\n  'type_consonant',\n  'type_vowel',\n  'uvularization_uvularized',\n  'velarization_velarized'),\n (False,\n  False,\n  False,\n  True,\n  False,\n  False,\n  False,\n  False,\n  False,\n  False,\n  False,\n  False,\n  True,\n  False,\n  False,\n  False,\n  False,\n  False,\n  False,\n  False,\n  False,\n  False,\n  False,\n  False,\n  False,\n  False,\n  False,\n  False,\n  False,\n  False,\n  False,\n  False,\n  False,\n  False,\n  False,\n  False,\n  False,\n  False,\n  False,\n  False,\n  False,\n  False,\n  False,\n  False,\n  False,\n  False,\n  False,\n  False,\n  False,\n  False,\n  False,\n  False,\n  False,\n  False,\n  False,\n  True,\n  False,\n  False,\n  False,\n  False,\n  False,\n  True,\n  False,\n  False))"
     },
     "execution_count": 13,
     "metadata": {},
     "output_type": "execute_result"
    }
   ],
   "source": [
    "maniphono.model_mipa.fvalue_vector(\"a\")\n",
    "maniphono.model_mipa.fvalue_vector(\"a\", categorical=False)"
   ],
   "metadata": {
    "collapsed": false,
    "pycharm": {
     "name": "#%% code\n"
    }
   }
  },
  {
   "cell_type": "markdown",
   "source": [
    "All models allow to compute a distance between two sounds, with the distance between a sound and\n",
    "itself set, by design, to zero. In some cases this experimental method will compute and cache\n",
    "and `sklearn` regressor, which can take a while."
   ],
   "metadata": {
    "collapsed": false,
    "pycharm": {
     "name": "#%% md\n"
    }
   }
  },
  {
   "cell_type": "code",
   "execution_count": 14,
   "outputs": [
    {
     "name": "stdout",
     "output_type": "stream",
     "text": [
      "0.0\n",
      "4.154288681171323\n",
      "28.166505828490287\n"
     ]
    }
   ],
   "source": [
    "R = maniphono.DistanceRegressor()\n",
    "print(R.distance(\"a\", \"a\"))\n",
    "print(R.distance(\"a\", \"e\"))\n",
    "print(R.distance(\"a\", \"ʒ\"))"
   ],
   "metadata": {
    "collapsed": false,
    "pycharm": {
     "name": "#%% code\n"
    }
   }
  }
 ],
 "metadata": {
  "kernelspec": {
   "display_name": "Python 3",
   "language": "python",
   "name": "python3"
  },
  "language_info": {
   "codemirror_mode": {
    "name": "ipython",
    "version": 2
   },
   "file_extension": ".py",
   "mimetype": "text/x-python",
   "name": "python",
   "nbconvert_exporter": "python",
   "pygments_lexer": "ipython2",
   "version": "2.7.6"
  }
 },
 "nbformat": 4,
 "nbformat_minor": 0
}